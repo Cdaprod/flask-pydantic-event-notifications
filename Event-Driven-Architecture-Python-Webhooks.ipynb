{
 "cells": [
  {
   "cell_type": "markdown",
   "id": "66d959a0",
   "metadata": {},
   "source": [
    "# Event-Driven Architecture: MinIO Integrations - Automating Bucket Events with Webhooks and PostgreSQL\n",
    "\n",
    "### Proof of Concept Summary for Blog Review\n",
    "\n",
    "This article presents a comprehensive Proof of Concept (PoC) that demonstrates the integration of Flask, a micro web framework, with MinIO, an object storage server, and PostgreSQL, a relational database, for efficient event data handling and storage. The primary goal of this PoC is to illustrate how these three technologies can be seamlessly combined to build a robust, scalable system capable of managing event data in real-time.\n",
    "\n",
    "Key components of this integration include:\n",
    "- **Pydantic Classes**: Leveraged for data validation and settings management, ensuring robust data handling.\n",
    "- **MinIO Client Initialization**: Demonstrates the use of MinIO for object storage, essential for handling large volumes of data.\n",
    "- **PostgreSQL Database Integration**: Showcases how to reliably store and manage structured event data.\n",
    "- **Flask Web Server**: Serves as the backbone of the application, handling HTTP requests and routing them to the appropriate processing functions.\n",
    "\n",
    "The PoC also explores:\n",
    "- **Event Processing and Serialization**: Critical for ensuring that data is correctly formatted and stored.\n",
    "- **Error Handling Mechanisms**: Demonstrating robustness and reliability of the system in adverse conditions.\n",
    "- **Practical Application**: Through the simulation of an event, we provide a real-world scenario that showcases the system’s capabilities.\n",
    "\n",
    "The expected outcome of this PoC is to validate the feasibility and effectiveness of integrating Flask, MinIO, and PostgreSQL for event data management. It is a compelling demonstration for developers and architects looking to build scalable and efficient applications using these technologies.\n",
    "\n",
    "As we prepare this PoC for review, we aim to provide a detailed, practical example that not only showcases technical integration but also offers insights into its real-world applicability and scalability. This article will be an invaluable resource for professionals seeking to implement similar solutions in their projects or enterprises.\n",
    "\n",
    "---"
   ]
  },
  {
   "cell_type": "markdown",
   "id": "dcd655b1",
   "metadata": {},
   "source": [
    "# Setup the MinIO and Postgres Services with Docker Compose"
   ]
  },
  {
   "cell_type": "markdown",
   "id": "b8381699",
   "metadata": {},
   "source": [
    "## Write docker-compose.yaml to local directory"
   ]
  },
  {
   "cell_type": "code",
   "execution_count": null,
   "id": "1dddb57d",
   "metadata": {},
   "outputs": [],
   "source": [
    "%%writefile docker-compose.yaml\n",
    "version: '3.8'\n",
    "services:\n",
    "  Flaskapp: # This is where we can assign a hostname\n",
    "    build: .\n",
    "    ports:\n",
    "      - \"5000:5000\"\n",
    "    depends_on:\n",
    "      - minio\n",
    "      - postgres\n",
    "      - redis\n",
    "\n",
    "  minio:\n",
    "    image: minio/minio\n",
    "    environment:\n",
    "      MINIO_ACCESS_KEY: minio\n",
    "      MINIO_SECRET_KEY: minio123\n",
    "    command: server /data\n",
    "    ports:\n",
    "      - \"9000:9000\"\n",
    "    volumes:\n",
    "      - minio_data:/data\n",
    "\n",
    "  postgres:\n",
    "    image: postgres:alpine\n",
    "    environment:\n",
    "      POSTGRES_DB: postgres\n",
    "      POSTGRES_USER: myuser\n",
    "      POSTGRES_PASSWORD: mypassword\n",
    "    ports:\n",
    "      - \"5432:5432\"\n",
    "    volumes:\n",
    "      - postgres_data:/var/lib/postgresql/data\n",
    "\n",
    "volumes:\n",
    "  minio_data:\n",
    "  postgres_data:"
   ]
  },
  {
   "cell_type": "markdown",
   "id": "f2e5c785",
   "metadata": {},
   "source": [
    "# If MinIO is already running\n",
    "\n",
    "You can deploy a Postgres Container like so:"
   ]
  },
  {
   "cell_type": "code",
   "execution_count": null,
   "id": "75aefd02",
   "metadata": {},
   "outputs": [],
   "source": [
    "!docker run -d \\\n",
    "    --name postgres \\\n",
    "    -e POSTGRES_DB=postgres \\\n",
    "    -e POSTGRES_USER=myuser \\\n",
    "    -e POSTGRES_PASSWORD=mypassword \\\n",
    "    -p 5432:5432 \\\n",
    "    -v postgres_data:/var/lib/postgresql/data \\\n",
    "    postgres:alpine"
   ]
  },
  {
   "cell_type": "markdown",
   "id": "07462f02",
   "metadata": {},
   "source": [
    "## Check if containers are running"
   ]
  },
  {
   "cell_type": "code",
   "execution_count": 10,
   "id": "046e61f0",
   "metadata": {},
   "outputs": [
    {
     "name": "stdout",
     "output_type": "stream",
     "text": [
      "CONTAINER ID   IMAGE                 COMMAND                  CREATED        STATUS       PORTS                                            NAMES\n",
      "0e113865e67e   quay.io/minio/minio   \"/usr/bin/docker-entâ€¦\"   4 months ago   Up 4 hours   0.0.0.0:9000->9000/tcp, 0.0.0.0:9090->9090/tcp   minio\n",
      "CONTAINER ID   IMAGE             COMMAND                  CREATED      STATUS      PORTS                    NAMES\n",
      "c580a2f2a48c   postgres:alpine   \"docker-entrypoint.sâ€¦\"   6 days ago   Up 6 days   0.0.0.0:5432->5432/tcp   postgres\n"
     ]
    }
   ],
   "source": [
    "!docker ps -f name=minio\n",
    "!docker ps -f name=postgres"
   ]
  },
  {
   "cell_type": "markdown",
   "id": "c9c53d8f",
   "metadata": {},
   "source": [
    "## Create the table in the container"
   ]
  },
  {
   "cell_type": "code",
   "execution_count": 1,
   "id": "fc7bf323",
   "metadata": {},
   "outputs": [
    {
     "name": "stderr",
     "output_type": "stream",
     "text": [
      "Error response from daemon: container c580a2f2a48ce7612d90bee14fd827fd2c994605119d824cf1ce69178376d99d is not running\n"
     ]
    }
   ],
   "source": [
    "!docker exec postgres psql -U myuser -d postgres -c \"CREATE TABLE IF NOT EXISTS events (id SERIAL PRIMARY KEY, event_type VARCHAR(255), data JSON);\""
   ]
  },
  {
   "cell_type": "markdown",
   "id": "ad32b674",
   "metadata": {},
   "source": [
    "# The API Development Code for Integrating Numerous Clients & Services with MinIO\n",
    "\n",
    "Ive added lots of comments to outline each step for whoever is reading this:"
   ]
  },
  {
   "cell_type": "code",
   "execution_count": 7,
   "id": "c16cced4",
   "metadata": {},
   "outputs": [
    {
     "name": "stdout",
     "output_type": "stream",
     "text": [
      "Event Notification for 'simulated_event_data' has been inserted successfully into 'Events' Table.\n",
      " * Serving Flask app '__main__' (lazy loading)\n",
      " * Environment: production\n",
      "\u001b[31m   WARNING: This is a development server. Do not use it in a production deployment.\u001b[0m\n",
      "\u001b[2m   Use a production WSGI server instead.\u001b[0m\n",
      " * Debug mode: on\n"
     ]
    },
    {
     "name": "stderr",
     "output_type": "stream",
     "text": [
      " * Restarting with watchdog (windowsapi)\n"
     ]
    },
    {
     "ename": "SystemExit",
     "evalue": "1",
     "output_type": "error",
     "traceback": [
      "An exception has occurred, use %tb to see the full traceback.\n",
      "\u001b[1;31mSystemExit\u001b[0m\u001b[1;31m:\u001b[0m 1\n"
     ]
    },
    {
     "name": "stderr",
     "output_type": "stream",
     "text": [
      "C:\\Users\\david\\AppData\\Local\\Packages\\PythonSoftwareFoundation.Python.3.9_qbz5n2kfra8p0\\LocalCache\\local-packages\\Python39\\site-packages\\IPython\\core\\interactiveshell.py:3516: UserWarning: To exit: use 'exit', 'quit', or Ctrl-D.\n",
      "  warn(\"To exit: use 'exit', 'quit', or Ctrl-D.\", stacklevel=1)\n"
     ]
    }
   ],
   "source": [
    "from pydantic import BaseModel\n",
    "from flask import Flask, request\n",
    "from minio import Minio\n",
    "import psycopg2\n",
    "import json\n",
    "\n",
    "# Pydantic configuration class for MinIO client\n",
    "class MinioClientConfig(BaseModel):\n",
    "    endpoint: str = '192.168.0.25:9000'  # Using container hostname\n",
    "    access_key: str = 'minio'\n",
    "    secret_key: str = 'minio123'\n",
    "\n",
    "# Pydantic configuration class for PostgreSQL client\n",
    "class PostgresClientConfig(BaseModel):\n",
    "    host: str = 'localhost'  # Using container hostname\n",
    "    port: int = 5432\n",
    "    user: str = 'myuser'\n",
    "    password: str = 'mypassword'\n",
    "    database: str = 'postgres'\n",
    "\n",
    "# Pydantic class for event structure\n",
    "class Event(BaseModel):\n",
    "    event_type: str\n",
    "    data: dict\n",
    "\n",
    "# Create an instance of MinioClientConfig\n",
    "minio_config = MinioClientConfig()\n",
    "\n",
    "# Initialize MinIO client using the instance\n",
    "minio_client = Minio(minio_config.endpoint, \n",
    "                     access_key=minio_config.access_key, \n",
    "                     secret_key=minio_config.secret_key)\n",
    "\n",
    "# Create an instance of PostgresClientConfig\n",
    "postgres_config = PostgresClientConfig()\n",
    "\n",
    "# Initialize PostgreSQL connection using the instance\n",
    "pg_conn = psycopg2.connect(\n",
    "    host=postgres_config.host,\n",
    "    port=postgres_config.port,\n",
    "    user=postgres_config.user,\n",
    "    password=postgres_config.password,\n",
    "    dbname=postgres_config.database)\n",
    "\n",
    "## Uncomment the following for a function that create_events_table which isnt necessary if the notebook is ran in order\n",
    "\n",
    "# def create_events_table():\n",
    "#     create_table_query = \"\"\"\n",
    "#     CREATE TABLE IF NOT EXISTS events (\n",
    "#         id SERIAL PRIMARY KEY,\n",
    "#         event_type VARCHAR(255),\n",
    "#         data JSON\n",
    "#     );\n",
    "#     \"\"\"\n",
    "#     try:\n",
    "#         with pg_conn.cursor() as cur:\n",
    "#             cur.execute(create_table_query)\n",
    "#             pg_conn.commit()\n",
    "#             print(\"Table 'events' has been successfully.\")\n",
    "#     except Exception as e:\n",
    "#         print(f\"Error creating table: {e}\")\n",
    "\n",
    "# Flask app initialization\n",
    "app = Flask(__name__)\n",
    "\n",
    "# Route for handling events\n",
    "@app.route('/event', methods=['POST'])\n",
    "def handle_event():\n",
    "    event_data = request.json\n",
    "    event = Event(**event_data)\n",
    "    process_event(event)\n",
    "    return \"Event processed\"\n",
    "\n",
    "# Function to process events\n",
    "def process_event(event: Event):\n",
    "    # Serialize data to JSON\n",
    "    json_data = json.dumps(event.data)\n",
    "\n",
    "    # Process event and log data in PostgreSQL\n",
    "    try:\n",
    "        with pg_conn.cursor() as cur:\n",
    "            cur.execute(\"INSERT INTO events (event_type, data) VALUES (%s, %s)\", \n",
    "                        (event.event_type, json_data))\n",
    "            pg_conn.commit()\n",
    "            print(\"Event Notification for 'simulated_event_data' has been inserted successfully into 'Events' Table.\")\n",
    "    except Exception as e:\n",
    "        pg_conn.rollback()  # Roll back the transaction in case of an error\n",
    "        print(f\"Error processing event: {e}\")\n",
    "        \n",
    "# Simulate an event for demonstration\n",
    "simulated_event_data = {\n",
    "    'event_type': 'file_uploaded',\n",
    "    'data': {\n",
    "        'file_name': 'example.txt',\n",
    "        'file_size': '1024',\n",
    "        'bucket_name': 'test-bucket'\n",
    "    }\n",
    "}\n",
    "\n",
    "# Create Event instance with simulated data\n",
    "simulated_event = Event(**simulated_event_data)\n",
    "\n",
    "# Process the simulated event\n",
    "process_event(simulated_event)\n",
    "\n",
    "# Run the Flask app if this script is the main program\n",
    "if __name__ == \"__main__\":\n",
    "    #create_events_table()\n",
    "    app.run(debug=True, port=5000)"
   ]
  },
  {
   "cell_type": "markdown",
   "id": "0087213a",
   "metadata": {},
   "source": [
    "# Viewing the Results"
   ]
  },
  {
   "cell_type": "code",
   "execution_count": 8,
   "id": "21b393a7",
   "metadata": {},
   "outputs": [
    {
     "name": "stdout",
     "output_type": "stream",
     "text": [
      " id |  event_type   |                                      data                                       | event_time | key | value \n",
      "----+---------------+---------------------------------------------------------------------------------+------------+-----+-------\n",
      "  1 | file_uploaded | {\"file_name\": \"example.txt\", \"file_size\": \"1024\", \"bucket_name\": \"test-bucket\"} |            |     | \n",
      "  2 | file_uploaded | {\"file_name\": \"example.txt\", \"file_size\": \"1024\", \"bucket_name\": \"test-bucket\"} |            |     | \n",
      "  3 | file_uploaded | {\"file_name\": \"example.txt\", \"file_size\": \"1024\", \"bucket_name\": \"test-bucket\"} |            |     | \n",
      "  4 | file_uploaded | {\"file_name\": \"example.txt\", \"file_size\": \"1024\", \"bucket_name\": \"test-bucket\"} |            |     | \n",
      "  5 | file_uploaded | {\"file_name\": \"example.txt\", \"file_size\": \"1024\", \"bucket_name\": \"test-bucket\"} |            |     | \n",
      "  6 | file_uploaded | {\"file_name\": \"example.txt\", \"file_size\": \"1024\", \"bucket_name\": \"test-bucket\"} |            |     | \n",
      "  7 | file_uploaded | {\"file_name\": \"example.txt\", \"file_size\": \"1024\", \"bucket_name\": \"test-bucket\"} |            |     | \n",
      "  8 | file_uploaded | {\"file_name\": \"example.txt\", \"file_size\": \"1024\", \"bucket_name\": \"test-bucket\"} |            |     | \n",
      "  9 | file_uploaded | {\"file_name\": \"example.txt\", \"file_size\": \"1024\", \"bucket_name\": \"test-bucket\"} |            |     | \n",
      " 10 | file_uploaded | {\"file_name\": \"example.txt\", \"file_size\": \"1024\", \"bucket_name\": \"test-bucket\"} |            |     | \n",
      "(10 rows)\n",
      "\n"
     ]
    }
   ],
   "source": [
    "!docker exec postgres psql -U myuser -d postgres -c \"SELECT * FROM events;\""
   ]
  }
 ],
 "metadata": {
  "kernelspec": {
   "display_name": "Python 3 (ipykernel)",
   "language": "python",
   "name": "python3"
  },
  "language_info": {
   "codemirror_mode": {
    "name": "ipython",
    "version": 3
   },
   "file_extension": ".py",
   "mimetype": "text/x-python",
   "name": "python",
   "nbconvert_exporter": "python",
   "pygments_lexer": "ipython3",
   "version": "3.12.0"
  }
 },
 "nbformat": 4,
 "nbformat_minor": 5
}
